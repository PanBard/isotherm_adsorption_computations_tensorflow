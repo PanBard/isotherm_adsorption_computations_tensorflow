{
 "cells": [
  {
   "cell_type": "code",
   "execution_count": null,
   "id": "7c1d818e-6901-4563-a632-0db840e875b5",
   "metadata": {},
   "outputs": [],
   "source": [
    "#Changed data: 88"
   ]
  },
  {
   "cell_type": "code",
   "execution_count": null,
   "id": "16f9570b-f6ad-433c-a809-719c2beb3eeb",
   "metadata": {},
   "outputs": [],
   "source": [
    "average_Y = df['isotherm_Y'].apply(lambda x: sum(x) / len(x) if len(x) > 0 else None)\n",
    "bet = df['Total_surface_area[m2/g]']\n",
    "\n",
    "\n",
    "plt.scatter(average_Y, bet, color='blue', label='Dane')\n",
    "plt.title('Zaleznosc powierzchni wlasciwej od  średniej wartości ilosci zaabsorbowanego gazu')\n",
    "plt.xlabel('średnia y value [cm3/g]')\n",
    "plt.ylabel('BET value [m2/g]')\n",
    "# plt.legend()\n",
    "plt.show()"
   ]
  },
  {
   "cell_type": "code",
   "execution_count": null,
   "id": "95d1fcec-a0da-4a73-b354-512f59d78bec",
   "metadata": {},
   "outputs": [],
   "source": [
    "x1 = df['isotherm_X'][0]\n",
    "y1 = df['isotherm_Y'][0]\n",
    "ig, axs = plt.subplots(1, 2, figsize=(10, 5))\n",
    "axs[1].scatter(x1, y1, c='r', label='Dane 1')\n",
    "axs[1].set_title(f'New size: ')\n",
    "plt.tight_layout()\n",
    "plt.show()\n",
    "\n",
    "# for index, isotherm in enumerate(X):\n",
    "#     print(f\"{info[index][0]}  ->  BET: {y[index]}  dla  y_max: {isotherm[-1][1]}              name: {info[index][1]}  graph: {info[index][2]}\")\n",
    "#     # print(f\"No: {index} |  BET: {y_2[index]}  |  points:{len(isotherm)} | {info[index]}\")\n",
    "#     x1 = isotherm[:, 0]\n",
    "#     y1 = isotherm[:, 1]\n",
    "    \n",
    "#     oryg = np.array(oryginal_isotherms[index])\n",
    "#     x2 = oryg[:, 0]\n",
    "#     y2 = oryg[:, 1]\n",
    "    \n",
    "#     fig, axs = plt.subplots(1, 2, figsize=(10, 5))\n",
    "    \n",
    "#     axs[1].scatter(x1, y1, c='r', label='Dane 1')\n",
    "#     axs[1].set_title(f'New size: {len(isotherm)}')\n",
    "    \n",
    "    \n",
    "#     axs[0].scatter(x2, y2, c='b', label='Dane 2')\n",
    "#     axs[0].set_title(f'Oryginal size: {len(oryg)} | name: {info[index][1]}')\n",
    "#     axs[0].text(0.15, 0.95, f'BET:   {y[index]}', horizontalalignment='center', verticalalignment='center', transform=axs[0].transAxes)\n",
    "    \n",
    "    \n",
    "#     plt.tight_layout()\n",
    "#     plt.show()"
   ]
  }
 ],
 "metadata": {
  "kernelspec": {
   "display_name": "Python 3 (ipykernel)",
   "language": "python",
   "name": "python3"
  },
  "language_info": {
   "codemirror_mode": {
    "name": "ipython",
    "version": 3
   },
   "file_extension": ".py",
   "mimetype": "text/x-python",
   "name": "python",
   "nbconvert_exporter": "python",
   "pygments_lexer": "ipython3",
   "version": "3.12.3"
  }
 },
 "nbformat": 4,
 "nbformat_minor": 5
}
