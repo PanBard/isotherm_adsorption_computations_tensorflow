{
 "cells": [
  {
   "cell_type": "code",
   "execution_count": 23,
   "id": "d9713f7d-104b-4f65-aad1-e934b1161d2c",
   "metadata": {},
   "outputs": [
    {
     "name": "stdout",
     "output_type": "stream",
     "text": [
      "/home/pc/moje/python_projects/adsorbents_isotherms/Data/all_data.csv\n",
      "oryginal_isotherms: 897\n",
      "oryginal_bet: 897\n",
      "oryginal_info: 897 \n",
      "\n",
      "x_range_to_cut->False, return whole x range\n",
      "flat=False, returned two dimension data\n",
      "X (897, 40, 2)\n",
      "y (897,)\n",
      "info 897\n",
      "oryginal_isotherms 897\n",
      "return: X, y, info, oryginal_isotherms\n"
     ]
    }
   ],
   "source": [
    "%run Data_v2.ipynb\n",
    "import numpy as np\n",
    "import matplotlib.pyplot as plt\n",
    "import matplotlib.image as mpimg\n",
    "from pathlib import Path\n",
    "\n",
    "size = 40\n",
    "# X,y,info,oryginal_isotherms = get_data(size, x_range_to_cut=0.05, flat=False);\n",
    "X,y,info,oryginal_isotherms = get_data(size, flat=False);\n",
    "\n",
    "folder_name = 'images'\n",
    "image_folder_path = Path(folder_name)\n",
    "# image_files = [(file.stem, file.suffix) for file in image_folder_path.iterdir() if file.is_file()]"
   ]
  },
  {
   "cell_type": "markdown",
   "id": "39788e4e-0b8e-4899-bb0b-c309bb7fb727",
   "metadata": {},
   "source": [
    "### example of converting the volume of gas adsorbed to the weight of gas adsorbed:"
   ]
  },
  {
   "cell_type": "code",
   "execution_count": 24,
   "id": "ca57239d-c929-4c42-907a-852a56cd138d",
   "metadata": {},
   "outputs": [
    {
     "data": {
      "text/plain": [
       "0.00941786211742661"
      ]
     },
     "execution_count": 24,
     "metadata": {},
     "output_type": "execute_result"
    }
   ],
   "source": [
    "V_ads = 7.5355 # cm3/g - volume of nitrogen adsorbed per gram of adsorbent\n",
    "V_molar = 22414 # cm3/mol - molar volume of nitrogen at STP\n",
    "M_N2 = 28.013 # g/mol   molar mass of nitrogen N2\n",
    "n = V_ads / V_molar # Convert the volume of nitrogen (cm³) to moles of nitrogen\n",
    "Mass_of_adsorbed_nitrogen = n * M_N2\n",
    "Mass_of_adsorbed_nitrogen"
   ]
  },
  {
   "cell_type": "markdown",
   "id": "a651290c-bad8-4ace-b9a0-bc68a3687701",
   "metadata": {},
   "source": [
    "### linear regression on the linear portion of the plot ( usually between 0.05 < P/P0 < 0.35 )"
   ]
  },
  {
   "cell_type": "code",
   "execution_count": 26,
   "id": "a3e2646e-592c-42a2-b6ee-ba48fdd57342",
   "metadata": {},
   "outputs": [
    {
     "name": "stdout",
     "output_type": "stream",
     "text": [
      "index = 879, sample = K1, BETsurface = 1426.0\n",
      "index = 880, sample = K2, BETsurface = 2897.0\n",
      "index = 881, sample = K3, BETsurface = 3283.0\n",
      "index = 882, sample = Na1, BETsurface = 1961.0\n",
      "\n",
      "For Data156: Smaple name=Na1, Graph number=1, isotherm_type=I BET=1961.0\n",
      "slope s = 1.9017094085823347 \n",
      "intercept i = -0.015302906076622325 \n",
      "weight of monolayer [g] Wm = 0.5301084356270511 \n",
      "BET constant C = -123.27112857259867 \n",
      "Avogadro number N = 6.023e+23 \n",
      "Adsorbate cross sectional area Acs = 1.62e-19 \n",
      "Molecular weight of Adsorbate M = 28.0134\n",
      "Slope(współczynnik kierunkowy)=1.9017094085823347 \n",
      "Intercept(wyraz wolny) =-0.015302906076622325 \n",
      "r_value=0.9977325287810931 \n",
      "p_value=1.2647167272602012e-16 \n",
      "std_err=0.035579341800592135\n",
      "Total Surface area St = 1846.4 [m2]  \n",
      "Specific sur area (from article): 1961.0 [m2/g]\n"
     ]
    },
    {
     "data": {
      "image/png": "[encoded data removed]",
      "text/plain": [
       "<Figure size 640x480 with 1 Axes>"
      ]
     },
     "metadata": {},
     "output_type": "display_data"
    }
   ],
   "source": [
    "from scipy.stats import linregress\n",
    "import numpy as np\n",
    "\n",
    "data_name = 'Data156'\n",
    "index_of_data = 882\n",
    "\n",
    "min_x_range = 0.05\n",
    "max_x_range = 0.3\n",
    "\n",
    "x_y_v2 = []\n",
    "for index, isotherm in enumerate(X):\n",
    "    if(info[index][0] == data_name):\n",
    "        print(f\"index = {index}, sample = {info[index][1]}, BETsurface = {y[index]}\")\n",
    "        \n",
    "    if(info[index][0] == data_name and index_of_data == index):\n",
    "        print()\n",
    "        sample_name = info[index][1]\n",
    "        graph_number = info[index][2]\n",
    "        isotherm_type = info[index][3]\n",
    "        \n",
    "        print(f'For {data_name}: Smaple name={sample_name}, Graph number={graph_number}, isotherm_type={isotherm_type} BET={y[index]}')\n",
    "        x_range = 0.1\n",
    "        \n",
    "        for i in range(len(isotherm)):\n",
    "            if(isotherm[i][0] > min_x_range and isotherm[i][0] < max_x_range):\n",
    "                x_y_v2.append(isotherm[i])\n",
    "        break\n",
    "        \n",
    "x_y = np.array(x_y_v2)\n",
    "# print(x_y)\n",
    "P_P0 = x_y[:, 0] # Relative pressure P/P0\n",
    "volume = x_y[:, 1]\n",
    "V_molar = 22414 # cm3/mol - molar volume of nitrogen at STP\n",
    "M_N2 = 28.013 # g/mol   molar mass of nitrogen N2\n",
    "V = (volume / V_molar) * M_N2\n",
    "# Calculate the values for column 3: 1 / (Volume * (P0/P - 1))\n",
    "P0_P = 1 / P_P0  # This gives P0/P for each data point\n",
    "W = 1/( V * ( P0_P - 1) )\n",
    "\n",
    "slope, intercept, r_value, p_value, std_err = linregress(P_P0, W) # Perform linear regression to find the slope and intercept\n",
    "\n",
    "# Add the linear regression line\n",
    "plt.plot(P_P0, W, 'bo', label=\"Data Points\")\n",
    "plt.xlabel(\"P/P0\")\n",
    "plt.ylabel(\"1 / (V * (P0/P - 1))\")\n",
    "plt.title(\"BET Isotherm Plot (Filtered Data)\")\n",
    "\n",
    "plt.plot(P_P0, slope * P_P0 + intercept, 'r-', label=f'Linear Fit (slope = {slope:.3f})')\n",
    "\n",
    "print(f'slope s = {slope} \\nintercept i = {intercept} ')\n",
    "\n",
    "Wm = 1 / (slope + intercept) # weight of monolayer in grams [g]\n",
    "C = 1 / (intercept * Wm ) # BET constant (C)\n",
    "N = 6.023e23 # Avogadro's number [molecules/mol]\n",
    "Acs = 16.2e-20  # Adsorbate cross sectional area (16.2Å^2 for Nitrogen) 1Å^2 = 1×10−20m [m2]\n",
    "M = 28.0134 # 28.0134 .   Molecular weight of Adsorbate [g/mol]\n",
    "St = ( (Wm * N * Acs) / M )   # Total Surface area - St [m2]\n",
    "# specific surface area = St / mass of sample [m2/g]\n",
    "\n",
    "print(f'weight of monolayer [g] Wm = {Wm} \\nBET constant C = {C} \\nAvogadro number N = {N} \\nAdsorbate cross sectional area Acs = {Acs} \\nMolecular weight of Adsorbate M = {M}')\n",
    "\n",
    "print(f\"Slope(współczynnik kierunkowy)={slope} \\nIntercept(wyraz wolny) ={intercept} \\nr_value={r_value} \\np_value={p_value} \\nstd_err={std_err}\")\n",
    "\n",
    "print(f'Total Surface area St = {round(St,2)} [m2]  \\nSpecific sur area (from article): {y[index]} [m2/g]')"
   ]
  },
  {
   "cell_type": "code",
   "execution_count": null,
   "id": "4c2cbd5c-89c0-4781-a8fb-141f1409319f",
   "metadata": {},
   "outputs": [],
   "source": []
  }
 ],
 "metadata": {
  "kernelspec": {
   "display_name": "Python 3 (ipykernel)",
   "language": "python",
   "name": "python3"
  },
  "language_info": {
   "codemirror_mode": {
    "name": "ipython",
    "version": 3
   },
   "file_extension": ".py",
   "mimetype": "text/x-python",
   "name": "python",
   "nbconvert_exporter": "python",
   "pygments_lexer": "ipython3",
   "version": "3.12.3"
  }
 },
 "nbformat": 4,
 "nbformat_minor": 5
}
